{
 "cells": [
  {
   "cell_type": "code",
   "execution_count": null,
   "metadata": {},
   "outputs": [],
   "source": []
  },
  {
   "cell_type": "code",
   "execution_count": 51,
   "metadata": {},
   "outputs": [
    {
     "data": {
      "text/plain": [
       "[]"
      ]
     },
     "execution_count": 51,
     "metadata": {},
     "output_type": "execute_result"
    }
   ],
   "source": [
    "search_array('Lumiere Technologies (old DO NOT USE)', data_list, 2)"
   ]
  },
  {
   "cell_type": "code",
   "execution_count": 42,
   "metadata": {},
   "outputs": [
    {
     "data": {
      "text/plain": [
       "['Equipment ONLY - Lumiere Technologies',\n",
       " 'Lumiere Technologies',\n",
       " 'Lumiere Tech, Inc.',\n",
       " 'Mendes Metal SA - Central Office',\n",
       " '*** DO NOT USE *** Mendes Metal',\n",
       " 'Mendes Metal, SA',\n",
       " 'Ship to Klapisch Aerospace gmbh',\n",
       " 'Klapisch Aero, gmbh Munich',\n",
       " 'Klapisch Aerospace tech (use Klapisch Aero, gmbh Munich acct 84719482-A)',\n",
       " 'Lumiere Technologies (old DO NOT USE)']"
      ]
     },
     "execution_count": 42,
     "metadata": {},
     "output_type": "execute_result"
    }
   ],
   "source": [
    "data_list"
   ]
  },
  {
   "cell_type": "code",
   "execution_count": 57,
   "metadata": {},
   "outputs": [],
   "source": [
    "def search_array(line, data_list, current):\n",
    "    line = line.lower()\n",
    "    matched = []\n",
    "    for idx, item in enumerate(data_list):\n",
    "        if idx == current:\n",
    "            continue\n",
    "        if line in item.lower():\n",
    "            matched += idx,\n",
    "    return matched\n",
    "\n",
    "def merge_duplicates(input_file):\n",
    "    with open(input_file) as file_ptr:\n",
    "        data = file_ptr.read()\n",
    "    items_to_delete = set()\n",
    "    data_list = data.split('\\n')\n",
    "    for idx, line in enumerate(data_list):\n",
    "        dupl_idxes = search_array(line, data_list, idx)\n",
    "        if not dupl_idxes or idx in items_to_delete:\n",
    "            continue\n",
    "        for dupl_idx in dupl_idxes:\n",
    "            items_to_delete.add(dupl_idx)\n",
    "    \n",
    "    final_list = []\n",
    "    for idx in range(len(data_list)):\n",
    "        if idx not in items_to_delete:\n",
    "            final_list += data_list[idx],\n",
    "            \n",
    "    return final_list"
   ]
  },
  {
   "cell_type": "code",
   "execution_count": 58,
   "metadata": {
    "scrolled": false
   },
   "outputs": [
    {
     "data": {
      "text/plain": [
       "['Lumiere Technologies',\n",
       " 'Lumiere Tech, Inc.',\n",
       " 'Mendes Metal SA - Central Office',\n",
       " '*** DO NOT USE *** Mendes Metal',\n",
       " 'Mendes Metal, SA',\n",
       " 'Ship to Klapisch Aerospace gmbh',\n",
       " 'Klapisch Aero, gmbh Munich']"
      ]
     },
     "execution_count": 58,
     "metadata": {},
     "output_type": "execute_result"
    }
   ],
   "source": [
    "merge_duplicates('data.txt')"
   ]
  },
  {
   "cell_type": "code",
   "execution_count": 40,
   "metadata": {},
   "outputs": [],
   "source": [
    "input_file='data.txt'\n",
    "with open(input_file) as file_ptr:\n",
    "    data = file_ptr.read()\n",
    "items_to_delete = set()\n",
    "data_list = data.split('\\n')"
   ]
  },
  {
   "cell_type": "code",
   "execution_count": 41,
   "metadata": {},
   "outputs": [
    {
     "data": {
      "text/plain": [
       "['Equipment ONLY - Lumiere Technologies',\n",
       " 'Lumiere Technologies',\n",
       " 'Lumiere Tech, Inc.',\n",
       " 'Mendes Metal SA - Central Office',\n",
       " '*** DO NOT USE *** Mendes Metal',\n",
       " 'Mendes Metal, SA',\n",
       " 'Ship to Klapisch Aerospace gmbh',\n",
       " 'Klapisch Aero, gmbh Munich',\n",
       " 'Klapisch Aerospace tech (use Klapisch Aero, gmbh Munich acct 84719482-A)',\n",
       " 'Lumiere Technologies (old DO NOT USE)']"
      ]
     },
     "execution_count": 41,
     "metadata": {},
     "output_type": "execute_result"
    }
   ],
   "source": [
    "data_list"
   ]
  },
  {
   "cell_type": "code",
   "execution_count": null,
   "metadata": {},
   "outputs": [],
   "source": []
  }
 ],
 "metadata": {
  "kernelspec": {
   "display_name": "Python 3",
   "language": "python",
   "name": "python3"
  },
  "language_info": {
   "codemirror_mode": {
    "name": "ipython",
    "version": 3
   },
   "file_extension": ".py",
   "mimetype": "text/x-python",
   "name": "python",
   "nbconvert_exporter": "python",
   "pygments_lexer": "ipython3",
   "version": "3.7.9"
  }
 },
 "nbformat": 4,
 "nbformat_minor": 4
}
