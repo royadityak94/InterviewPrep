{
 "cells": [
  {
   "cell_type": "code",
   "execution_count": 1,
   "metadata": {},
   "outputs": [],
   "source": [
    "import numpy as np\n",
    "import unittest\n",
    "import inspect"
   ]
  },
  {
   "cell_type": "code",
   "execution_count": 5,
   "metadata": {},
   "outputs": [],
   "source": [
    "def update_state(matrix):\n",
    "    padded_matrix = np.pad(matrix, pad_width=(1, 1), mode='constant', constant_values=0)\n",
    "    output_matrix = np.zeros_like(matrix)\n",
    "\n",
    "    row, col = padded_matrix.shape\n",
    "    for i in range(1, row-1):\n",
    "        for j in range(1, col-1):\n",
    "            neighbor_sum = padded_matrix[i-1:i+2, j-1:j+2].sum()\n",
    "            if padded_matrix[i][j] == 1:\n",
    "                # Any live cell with fewer than two live neighbours dies, as if by underpopulation.\n",
    "                # Any live cell with more than three live neighbours dies, as if by overpopulation.\n",
    "                if not neighbor_sum-1 in range(2, 4):\n",
    "                    output_matrix[i-1, j-1] = 0\n",
    "                # Any live cell with two or three live neighbours lives on to the next generation.\n",
    "                else:\n",
    "                    output_matrix[i-1, j-1] = 1\n",
    "            else:\n",
    "                # Any dead cell with exactly three live neighbours becomes a live cell, as if by reproduction.\n",
    "                if neighbor_sum == 3:\n",
    "                    output_matrix[i-1, j-1] = 1\n",
    "                else:\n",
    "                    output_matrix[i-1, j-1] = 0\n",
    "    return output_matrix"
   ]
  },
  {
   "cell_type": "code",
   "execution_count": null,
   "metadata": {},
   "outputs": [],
   "source": [
    "def validate(expected, output, msg):\n",
    "    try:\n",
    "        np.testing.assert_array_equal(expected, output)\n",
    "        print (\"Test Case Successful: %s\" % msg)\n",
    "    except ex: \n",
    "        print (ex)\n",
    "        print (\"Test Case Failed: %s\" % msg)\n",
    "    return\n",
    "    \n",
    "def test_case_1():\n",
    "    msg = inspect.currentframe().f_code.co_name\n",
    "    input_state = np.array([[1, 0, 0, 0], [0, 1, 1, 0], [0, 1, 1, 0], [0, 0, 0, 0]])\n",
    "    expected_output_state = np.array([[0, 1, 0, 0], [1, 0, 1, 0], [0, 1, 1, 0], [0, 0, 0, 0]])\n",
    "    validate(expected_output_state, update_state(input_state), msg)\n",
    "        \n",
    "def test_case_2():\n",
    "    msg = inspect.currentframe().f_code.co_name\n",
    "    input_state = np.array([[0, 1, 1, 0], [1, 1, 1, 0], [0, 1, 1, 0], [0, 0, 0, 0]])\n",
    "    expected_output_state = np.array([[1, 0, 1, 0], [1, 0, 0, 1], [1, 0, 1, 0], [0, 0, 0, 0]])\n",
    "    validate(expected_output_state, update_state(input_state), msg)\n",
    "        \n",
    "def execute_test_cases():\n",
    "    test_case_1()\n",
    "    test_case_2()"
   ]
  },
  {
   "cell_type": "code",
   "execution_count": 12,
   "metadata": {},
   "outputs": [
    {
     "name": "stdout",
     "output_type": "stream",
     "text": [
      "Test Case Successful: test_case_1\n",
      "Test Case Successful: test_case_2\n"
     ]
    }
   ],
   "source": [
    "execute_test_cases()"
   ]
  }
 ],
 "metadata": {
  "kernelspec": {
   "display_name": "Python 3",
   "language": "python",
   "name": "python3"
  },
  "language_info": {
   "codemirror_mode": {
    "name": "ipython",
    "version": 3
   },
   "file_extension": ".py",
   "mimetype": "text/x-python",
   "name": "python",
   "nbconvert_exporter": "python",
   "pygments_lexer": "ipython3",
   "version": "3.7.6"
  }
 },
 "nbformat": 4,
 "nbformat_minor": 4
}
