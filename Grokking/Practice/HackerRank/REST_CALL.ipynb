{
 "cells": [
  {
   "cell_type": "code",
   "execution_count": 12,
   "metadata": {},
   "outputs": [],
   "source": [
    "import requests"
   ]
  },
  {
   "cell_type": "code",
   "execution_count": 22,
   "metadata": {},
   "outputs": [],
   "source": [
    "URL = 'https://jsonmock.hackerrank.com/api/football_matches?year=2011&team=Barcelona&page=1'\n",
    "stats = requests.get(URL).json()"
   ]
  },
  {
   "cell_type": "code",
   "execution_count": 29,
   "metadata": {},
   "outputs": [],
   "source": [
    "home_team = 'Barcelona'\n",
    "team1goals = 0\n",
    "for competition in stats['data']:\n",
    "    if competition['team1'] == home_team:\n",
    "        team1goals += int(competition['team1goals'])"
   ]
  },
  {
   "cell_type": "code",
   "execution_count": 30,
   "metadata": {},
   "outputs": [
    {
     "data": {
      "text/plain": [
       "2"
      ]
     },
     "execution_count": 30,
     "metadata": {},
     "output_type": "execute_result"
    }
   ],
   "source": [
    "team1goals"
   ]
  },
  {
   "cell_type": "code",
   "execution_count": 32,
   "metadata": {},
   "outputs": [],
   "source": [
    "# stats"
   ]
  },
  {
   "cell_type": "code",
   "execution_count": 71,
   "metadata": {},
   "outputs": [],
   "source": [
    "def getTotalGoals(team, year):\n",
    "    # Write your code here\n",
    "    team_paths = ['team1', 'team2']\n",
    "    base_URL = 'https://jsonmock.hackerrank.com/api/football_matches?year=%s&%s=%s'\n",
    "    \n",
    "    global_count = 0\n",
    "    for path in team_paths:\n",
    "        URL = base_URL % (year, path, team)\n",
    "        stats = requests.get(URL).json()\n",
    "        total_pages = int(stats['total_pages'])\n",
    "        local_stats = stats\n",
    "        for page in range(1, total_pages+1):\n",
    "            if page != 1:\n",
    "                page_URL = URL + '&page=' + str(page)\n",
    "                local_stats = requests.get(page_URL).json()\n",
    "\n",
    "            local_count = 0\n",
    "            for data in local_stats['data']:\n",
    "                local_count += int(data[path+'goals'])\n",
    "\n",
    "            global_count += local_count\n",
    "    return global_count"
   ]
  },
  {
   "cell_type": "code",
   "execution_count": 35,
   "metadata": {},
   "outputs": [],
   "source": [
    "team = 'Barcelona'\n",
    "year = '2011'"
   ]
  },
  {
   "cell_type": "code",
   "execution_count": 72,
   "metadata": {},
   "outputs": [
    {
     "data": {
      "text/plain": [
       "35"
      ]
     },
     "execution_count": 72,
     "metadata": {},
     "output_type": "execute_result"
    }
   ],
   "source": [
    "getTotalGoals(team, year)"
   ]
  },
  {
   "cell_type": "code",
   "execution_count": 68,
   "metadata": {},
   "outputs": [],
   "source": [
    "team_paths = ['team1', 'team2']\n",
    "base_URL = 'https://jsonmock.hackerrank.com/api/football_matches?year=%s&%s=%s'\n",
    "#path = team_paths[1]\n",
    "\n"
   ]
  },
  {
   "cell_type": "code",
   "execution_count": 69,
   "metadata": {},
   "outputs": [],
   "source": [
    "\n",
    "        "
   ]
  },
  {
   "cell_type": "code",
   "execution_count": 70,
   "metadata": {},
   "outputs": [
    {
     "data": {
      "text/plain": [
       "35"
      ]
     },
     "execution_count": 70,
     "metadata": {},
     "output_type": "execute_result"
    }
   ],
   "source": [
    "global_count"
   ]
  },
  {
   "cell_type": "code",
   "execution_count": 65,
   "metadata": {},
   "outputs": [],
   "source": [
    "\n",
    "local_stats = stats\n",
    "\n",
    "global_count = 0\n",
    "for page in range(1, total_pages+1):\n",
    "    if page != 1:\n",
    "        page_URL = URL + '&page=' + str(page)\n",
    "        local_stats = requests.get(page_URL).json()\n",
    "    \n",
    "    local_count = 0\n",
    "    for data in local_stats['data']:\n",
    "        local_count += int(data[path+'goals'])\n",
    "    \n",
    "    global_count += local_count\n",
    "    "
   ]
  },
  {
   "cell_type": "code",
   "execution_count": 66,
   "metadata": {},
   "outputs": [
    {
     "data": {
      "text/plain": [
       "15"
      ]
     },
     "execution_count": 66,
     "metadata": {},
     "output_type": "execute_result"
    }
   ],
   "source": [
    "global_count"
   ]
  },
  {
   "cell_type": "code",
   "execution_count": 61,
   "metadata": {},
   "outputs": [
    {
     "data": {
      "text/plain": [
       "'5'"
      ]
     },
     "execution_count": 61,
     "metadata": {},
     "output_type": "execute_result"
    }
   ],
   "source": []
  },
  {
   "cell_type": "code",
   "execution_count": 59,
   "metadata": {},
   "outputs": [
    {
     "data": {
      "text/plain": [
       "[{'competition': 'UEFA Champions League',\n",
       "  'year': 2011,\n",
       "  'round': 'GroupH',\n",
       "  'team1': 'BATE Borisov',\n",
       "  'team2': 'Barcelona',\n",
       "  'team1goals': '0',\n",
       "  'team2goals': '5'},\n",
       " {'competition': 'UEFA Champions League',\n",
       "  'year': 2011,\n",
       "  'round': 'GroupH',\n",
       "  'team1': 'Viktoria Plzen',\n",
       "  'team2': 'Barcelona',\n",
       "  'team1goals': '0',\n",
       "  'team2goals': '4'},\n",
       " {'competition': 'UEFA Champions League',\n",
       "  'year': 2011,\n",
       "  'round': 'GroupH',\n",
       "  'team1': 'AC Milan',\n",
       "  'team2': 'Barcelona',\n",
       "  'team1goals': '2',\n",
       "  'team2goals': '3'},\n",
       " {'competition': 'UEFA Champions League',\n",
       "  'year': 2011,\n",
       "  'round': 'R16',\n",
       "  'team1': 'Bayer Leverkusen',\n",
       "  'team2': 'Barcelona',\n",
       "  'team1goals': '1',\n",
       "  'team2goals': '3'},\n",
       " {'competition': 'UEFA Champions League',\n",
       "  'year': 2011,\n",
       "  'round': 'QF',\n",
       "  'team1': 'AC Milan',\n",
       "  'team2': 'Barcelona',\n",
       "  'team1goals': '0',\n",
       "  'team2goals': '0'},\n",
       " {'competition': 'UEFA Champions League',\n",
       "  'year': 2011,\n",
       "  'round': 'SF',\n",
       "  'team1': 'Chelsea',\n",
       "  'team2': 'Barcelona',\n",
       "  'team1goals': '1',\n",
       "  'team2goals': '0'}]"
      ]
     },
     "execution_count": 59,
     "metadata": {},
     "output_type": "execute_result"
    }
   ],
   "source": []
  },
  {
   "cell_type": "code",
   "execution_count": 53,
   "metadata": {},
   "outputs": [
    {
     "data": {
      "text/plain": [
       "{'page': 1,\n",
       " 'per_page': 10,\n",
       " 'total': 6,\n",
       " 'total_pages': 1,\n",
       " 'data': [{'competition': 'UEFA Champions League',\n",
       "   'year': 2011,\n",
       "   'round': 'GroupH',\n",
       "   'team1': 'BATE Borisov',\n",
       "   'team2': 'Barcelona',\n",
       "   'team1goals': '0',\n",
       "   'team2goals': '5'},\n",
       "  {'competition': 'UEFA Champions League',\n",
       "   'year': 2011,\n",
       "   'round': 'GroupH',\n",
       "   'team1': 'Viktoria Plzen',\n",
       "   'team2': 'Barcelona',\n",
       "   'team1goals': '0',\n",
       "   'team2goals': '4'},\n",
       "  {'competition': 'UEFA Champions League',\n",
       "   'year': 2011,\n",
       "   'round': 'GroupH',\n",
       "   'team1': 'AC Milan',\n",
       "   'team2': 'Barcelona',\n",
       "   'team1goals': '2',\n",
       "   'team2goals': '3'},\n",
       "  {'competition': 'UEFA Champions League',\n",
       "   'year': 2011,\n",
       "   'round': 'R16',\n",
       "   'team1': 'Bayer Leverkusen',\n",
       "   'team2': 'Barcelona',\n",
       "   'team1goals': '1',\n",
       "   'team2goals': '3'},\n",
       "  {'competition': 'UEFA Champions League',\n",
       "   'year': 2011,\n",
       "   'round': 'QF',\n",
       "   'team1': 'AC Milan',\n",
       "   'team2': 'Barcelona',\n",
       "   'team1goals': '0',\n",
       "   'team2goals': '0'},\n",
       "  {'competition': 'UEFA Champions League',\n",
       "   'year': 2011,\n",
       "   'round': 'SF',\n",
       "   'team1': 'Chelsea',\n",
       "   'team2': 'Barcelona',\n",
       "   'team1goals': '1',\n",
       "   'team2goals': '0'}]}"
      ]
     },
     "execution_count": 53,
     "metadata": {},
     "output_type": "execute_result"
    }
   ],
   "source": [
    "stats"
   ]
  }
 ],
 "metadata": {
  "kernelspec": {
   "display_name": "Python 3",
   "language": "python",
   "name": "python3"
  },
  "language_info": {
   "codemirror_mode": {
    "name": "ipython",
    "version": 3
   },
   "file_extension": ".py",
   "mimetype": "text/x-python",
   "name": "python",
   "nbconvert_exporter": "python",
   "pygments_lexer": "ipython3",
   "version": "3.7.6"
  }
 },
 "nbformat": 4,
 "nbformat_minor": 4
}
