{
 "cells": [
  {
   "cell_type": "code",
   "execution_count": 2,
   "metadata": {},
   "outputs": [],
   "source": [
    "import requests"
   ]
  },
  {
   "cell_type": "code",
   "execution_count": 5,
   "metadata": {},
   "outputs": [],
   "source": [
    "URL = 'https://jsonmock.hackerrank.com/api/football_competitions?name=English Premier League&year=2011'\n",
    "stats = requests.get(URL).json()"
   ]
  },
  {
   "cell_type": "code",
   "execution_count": 9,
   "metadata": {},
   "outputs": [],
   "source": [
    "competition, year = 'UEFA Champions League', 2011"
   ]
  },
  {
   "cell_type": "code",
   "execution_count": 24,
   "metadata": {},
   "outputs": [],
   "source": [
    "def getTotalGoals(competition, team, year):\n",
    "    # Write your code here\n",
    "    team_paths = ['team1', 'team2']\n",
    "    base_URL = 'https://jsonmock.hackerrank.com/api/football_matches?competition=%s&year=%s&%s=%s'\n",
    "    \n",
    "    global_count = 0\n",
    "    for path in team_paths:\n",
    "        URL = base_URL % (competition, year, path, team)\n",
    "        stats = requests.get(URL).json()\n",
    "        total_pages = int(stats['total_pages'])\n",
    "        local_stats = stats\n",
    "        for page in range(1, total_pages+1):\n",
    "            if page != 1:\n",
    "                page_URL = URL + '&page=' + str(page)\n",
    "                local_stats = requests.get(page_URL).json()\n",
    "\n",
    "            local_count = 0\n",
    "            for data in local_stats['data']:\n",
    "                local_count += int(data[path+'goals'])\n",
    "\n",
    "            global_count += local_count\n",
    "    return global_count\n",
    "\n",
    "def fetch_winners(competition, year):\n",
    "    base_URL = 'https://jsonmock.hackerrank.com/api/football_competitions?name=%s&year=%s'\n",
    "    summary_URL = base_URL % (competition, year)\n",
    "    competition_summary = requests.get(summary_URL).json()\n",
    "    try:\n",
    "        return competition_summary['data'][0]['winner']\n",
    "    except: \n",
    "        return None\n",
    "    \n",
    "def getWinnerTotalGoals(competition, year):\n",
    "    # Write your code here\n",
    "    winners = fetch_winners(competition, year)\n",
    "    if not winners:\n",
    "        return 0\n",
    "    return getTotalGoals(competition, winners, year)"
   ]
  },
  {
   "cell_type": "code",
   "execution_count": 26,
   "metadata": {},
   "outputs": [],
   "source": []
  },
  {
   "cell_type": "code",
   "execution_count": 21,
   "metadata": {},
   "outputs": [
    {
     "data": {
      "text/plain": [
       "'Chelsea'"
      ]
     },
     "execution_count": 21,
     "metadata": {},
     "output_type": "execute_result"
    }
   ],
   "source": [
    "\n",
    "winners"
   ]
  },
  {
   "cell_type": "code",
   "execution_count": 27,
   "metadata": {},
   "outputs": [
    {
     "data": {
      "text/plain": [
       "28"
      ]
     },
     "execution_count": 27,
     "metadata": {},
     "output_type": "execute_result"
    }
   ],
   "source": [
    "getWinnerTotalGoals(competition, year)"
   ]
  },
  {
   "cell_type": "code",
   "execution_count": 13,
   "metadata": {},
   "outputs": [
    {
     "data": {
      "text/plain": [
       "{'page': 1,\n",
       " 'per_page': 10,\n",
       " 'total': 1,\n",
       " 'total_pages': 1,\n",
       " 'data': [{'name': 'UEFA Champions League',\n",
       "   'country': '',\n",
       "   'year': 2011,\n",
       "   'winner': 'Chelsea',\n",
       "   'runnerup': 'Bayern Munich'}]}"
      ]
     },
     "execution_count": 13,
     "metadata": {},
     "output_type": "execute_result"
    }
   ],
   "source": [
    "competition_summary"
   ]
  },
  {
   "cell_type": "code",
   "execution_count": null,
   "metadata": {},
   "outputs": [],
   "source": [
    "winners = None\n",
    "if com"
   ]
  },
  {
   "cell_type": "code",
   "execution_count": 14,
   "metadata": {},
   "outputs": [
    {
     "data": {
      "text/plain": [
       "{'name': 'UEFA Champions League',\n",
       " 'country': '',\n",
       " 'year': 2011,\n",
       " 'winner': 'Chelsea',\n",
       " 'runnerup': 'Bayern Munich'}"
      ]
     },
     "execution_count": 14,
     "metadata": {},
     "output_type": "execute_result"
    }
   ],
   "source": []
  },
  {
   "cell_type": "code",
   "execution_count": 7,
   "metadata": {},
   "outputs": [],
   "source": [
    "URL = 'https://jsonmock.hackerrank.com/api/football_matches?competition=English Premier League&name=English Premier League&year=2011&team1=Manchester City'\n",
    "stats = requests.get(URL).json()"
   ]
  },
  {
   "cell_type": "code",
   "execution_count": 8,
   "metadata": {},
   "outputs": [
    {
     "data": {
      "text/plain": [
       "{'page': 1,\n",
       " 'per_page': 10,\n",
       " 'total': 19,\n",
       " 'total_pages': 2,\n",
       " 'data': [{'competition': 'English Premier League',\n",
       "   'year': 2011,\n",
       "   'round': '',\n",
       "   'team1': 'Manchester City',\n",
       "   'team2': 'Arsenal',\n",
       "   'team1goals': '1',\n",
       "   'team2goals': '0'},\n",
       "  {'competition': 'English Premier League',\n",
       "   'year': 2011,\n",
       "   'round': '',\n",
       "   'team1': 'Manchester City',\n",
       "   'team2': 'Aston Villa',\n",
       "   'team1goals': '4',\n",
       "   'team2goals': '1'},\n",
       "  {'competition': 'English Premier League',\n",
       "   'year': 2011,\n",
       "   'round': '',\n",
       "   'team1': 'Manchester City',\n",
       "   'team2': 'Blackburn Rovers',\n",
       "   'team1goals': '3',\n",
       "   'team2goals': '0'},\n",
       "  {'competition': 'English Premier League',\n",
       "   'year': 2011,\n",
       "   'round': '',\n",
       "   'team1': 'Manchester City',\n",
       "   'team2': 'Bolton Wanderers',\n",
       "   'team1goals': '2',\n",
       "   'team2goals': '0'},\n",
       "  {'competition': 'English Premier League',\n",
       "   'year': 2011,\n",
       "   'round': '',\n",
       "   'team1': 'Manchester City',\n",
       "   'team2': 'Chelsea',\n",
       "   'team1goals': '2',\n",
       "   'team2goals': '1'},\n",
       "  {'competition': 'English Premier League',\n",
       "   'year': 2011,\n",
       "   'round': '',\n",
       "   'team1': 'Manchester City',\n",
       "   'team2': 'Everton',\n",
       "   'team1goals': '2',\n",
       "   'team2goals': '0'},\n",
       "  {'competition': 'English Premier League',\n",
       "   'year': 2011,\n",
       "   'round': '',\n",
       "   'team1': 'Manchester City',\n",
       "   'team2': 'Fulham',\n",
       "   'team1goals': '3',\n",
       "   'team2goals': '0'},\n",
       "  {'competition': 'English Premier League',\n",
       "   'year': 2011,\n",
       "   'round': '',\n",
       "   'team1': 'Manchester City',\n",
       "   'team2': 'Liverpool',\n",
       "   'team1goals': '3',\n",
       "   'team2goals': '0'},\n",
       "  {'competition': 'English Premier League',\n",
       "   'year': 2011,\n",
       "   'round': '',\n",
       "   'team1': 'Manchester City',\n",
       "   'team2': 'Manchester United',\n",
       "   'team1goals': '1',\n",
       "   'team2goals': '0'},\n",
       "  {'competition': 'English Premier League',\n",
       "   'year': 2011,\n",
       "   'round': '',\n",
       "   'team1': 'Manchester City',\n",
       "   'team2': 'Newcastle United',\n",
       "   'team1goals': '3',\n",
       "   'team2goals': '1'}]}"
      ]
     },
     "execution_count": 8,
     "metadata": {},
     "output_type": "execute_result"
    }
   ],
   "source": [
    "stats"
   ]
  },
  {
   "cell_type": "code",
   "execution_count": null,
   "metadata": {},
   "outputs": [],
   "source": []
  },
  {
   "cell_type": "code",
   "execution_count": null,
   "metadata": {},
   "outputs": [],
   "source": []
  }
 ],
 "metadata": {
  "kernelspec": {
   "display_name": "Python 3",
   "language": "python",
   "name": "python3"
  },
  "language_info": {
   "codemirror_mode": {
    "name": "ipython",
    "version": 3
   },
   "file_extension": ".py",
   "mimetype": "text/x-python",
   "name": "python",
   "nbconvert_exporter": "python",
   "pygments_lexer": "ipython3",
   "version": "3.7.6"
  }
 },
 "nbformat": 4,
 "nbformat_minor": 4
}
