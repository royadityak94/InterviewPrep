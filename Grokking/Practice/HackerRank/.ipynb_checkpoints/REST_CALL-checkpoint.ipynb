{
 "cells": [
  {
   "cell_type": "code",
   "execution_count": 12,
   "metadata": {},
   "outputs": [],
   "source": [
    "import requests"
   ]
  },
  {
   "cell_type": "code",
   "execution_count": 22,
   "metadata": {},
   "outputs": [],
   "source": [
    "URL = 'https://jsonmock.hackerrank.com/api/football_matches?year=2011&team=Barcelona&page=1'\n",
    "stats = requests.get(URL).json()"
   ]
  },
  {
   "cell_type": "code",
   "execution_count": 29,
   "metadata": {},
   "outputs": [],
   "source": [
    "home_team = 'Barcelona'\n",
    "team1goals = 0\n",
    "for competition in stats['data']:\n",
    "    if competition['team1'] == home_team:\n",
    "        team1goals += int(competition['team1goals'])"
   ]
  },
  {
   "cell_type": "code",
   "execution_count": 30,
   "metadata": {},
   "outputs": [
    {
     "data": {
      "text/plain": [
       "2"
      ]
     },
     "execution_count": 30,
     "metadata": {},
     "output_type": "execute_result"
    }
   ],
   "source": [
    "team1goals"
   ]
  },
  {
   "cell_type": "code",
   "execution_count": 32,
   "metadata": {},
   "outputs": [],
   "source": [
    "# stats"
   ]
  },
  {
   "cell_type": "code",
   "execution_count": null,
   "metadata": {},
   "outputs": [],
   "source": [
    "def getTotalGoals(team, year):\n",
    "    # Write your code here"
   ]
  },
  {
   "cell_type": "code",
   "execution_count": 35,
   "metadata": {},
   "outputs": [],
   "source": [
    "team = 'Barcelona'\n",
    "year = '2011'"
   ]
  },
  {
   "cell_type": "code",
   "execution_count": 43,
   "metadata": {},
   "outputs": [],
   "source": [
    "URL = 'https://jsonmock.hackerrank.com/api/football_matches?year=%s&team1=%s'\n",
    "URL = URL % (year, team)\n",
    "stats = requests.get(URL).json()"
   ]
  },
  {
   "cell_type": "code",
   "execution_count": 42,
   "metadata": {},
   "outputs": [
    {
     "data": {
      "text/plain": [
       "'https://jsonmock.hackerrank.com/api/football_matches?year=2011&team1=Barcelona'"
      ]
     },
     "execution_count": 42,
     "metadata": {},
     "output_type": "execute_result"
    }
   ],
   "source": [
    "URL"
   ]
  },
  {
   "cell_type": "code",
   "execution_count": null,
   "metadata": {},
   "outputs": [],
   "source": [
    "total_pahes = "
   ]
  },
  {
   "cell_type": "code",
   "execution_count": null,
   "metadata": {},
   "outputs": [],
   "source": [
    "stats['']"
   ]
  },
  {
   "cell_type": "code",
   "execution_count": 44,
   "metadata": {},
   "outputs": [
    {
     "data": {
      "text/plain": [
       "{'page': 1,\n",
       " 'per_page': 10,\n",
       " 'total': 1951,\n",
       " 'total_pages': 196,\n",
       " 'data': [{'competition': 'UEFA Champions League',\n",
       "   'year': 2011,\n",
       "   'round': 'GroupH',\n",
       "   'team1': 'Barcelona',\n",
       "   'team2': 'AC Milan',\n",
       "   'team1goals': '2',\n",
       "   'team2goals': '2'},\n",
       "  {'competition': 'UEFA Champions League',\n",
       "   'year': 2011,\n",
       "   'round': 'GroupG',\n",
       "   'team1': 'APOEL Nikosia',\n",
       "   'team2': 'Zenit St. Petersburg',\n",
       "   'team1goals': '2',\n",
       "   'team2goals': '1'},\n",
       "  {'competition': 'UEFA Champions League',\n",
       "   'year': 2011,\n",
       "   'round': 'GroupF',\n",
       "   'team1': 'Borussia Dortmund',\n",
       "   'team2': 'Arsenal',\n",
       "   'team1goals': '1',\n",
       "   'team2goals': '1'},\n",
       "  {'competition': 'UEFA Champions League',\n",
       "   'year': 2011,\n",
       "   'round': 'GroupH',\n",
       "   'team1': 'Viktoria Plzen',\n",
       "   'team2': 'BATE Borisov',\n",
       "   'team1goals': '1',\n",
       "   'team2goals': '1'},\n",
       "  {'competition': 'UEFA Champions League',\n",
       "   'year': 2011,\n",
       "   'round': 'GroupE',\n",
       "   'team1': 'Chelsea',\n",
       "   'team2': 'Bayer Leverkusen',\n",
       "   'team1goals': '2',\n",
       "   'team2goals': '0'},\n",
       "  {'competition': 'UEFA Champions League',\n",
       "   'year': 2011,\n",
       "   'round': 'GroupG',\n",
       "   'team1': 'FC Porto',\n",
       "   'team2': 'Shakhtar Donetsk',\n",
       "   'team1goals': '2',\n",
       "   'team2goals': '1'},\n",
       "  {'competition': 'UEFA Champions League',\n",
       "   'year': 2011,\n",
       "   'round': 'GroupE',\n",
       "   'team1': 'KRC Genk',\n",
       "   'team2': 'Valencia CF',\n",
       "   'team1goals': '0',\n",
       "   'team2goals': '0'},\n",
       "  {'competition': 'UEFA Champions League',\n",
       "   'year': 2011,\n",
       "   'round': 'GroupF',\n",
       "   'team1': 'Olympiacos',\n",
       "   'team2': 'Olympique Marseille',\n",
       "   'team1goals': '0',\n",
       "   'team2goals': '1'},\n",
       "  {'competition': 'UEFA Champions League',\n",
       "   'year': 2011,\n",
       "   'round': 'GroupD',\n",
       "   'team1': 'AFC Ajax',\n",
       "   'team2': 'Olympique Lyon',\n",
       "   'team1goals': '0',\n",
       "   'team2goals': '0'},\n",
       "  {'competition': 'UEFA Champions League',\n",
       "   'year': 2011,\n",
       "   'round': 'GroupC',\n",
       "   'team1': 'Basel',\n",
       "   'team2': 'Otelul Galati',\n",
       "   'team1goals': '2',\n",
       "   'team2goals': '1'}]}"
      ]
     },
     "execution_count": 44,
     "metadata": {},
     "output_type": "execute_result"
    }
   ],
   "source": [
    "stats"
   ]
  }
 ],
 "metadata": {
  "kernelspec": {
   "display_name": "Python 3",
   "language": "python",
   "name": "python3"
  },
  "language_info": {
   "codemirror_mode": {
    "name": "ipython",
    "version": 3
   },
   "file_extension": ".py",
   "mimetype": "text/x-python",
   "name": "python",
   "nbconvert_exporter": "python",
   "pygments_lexer": "ipython3",
   "version": "3.7.6"
  }
 },
 "nbformat": 4,
 "nbformat_minor": 4
}
