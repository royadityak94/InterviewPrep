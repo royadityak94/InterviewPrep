{
 "cells": [
  {
   "cell_type": "code",
   "execution_count": null,
   "metadata": {},
   "outputs": [],
   "source": []
  },
  {
   "cell_type": "code",
   "execution_count": 6,
   "metadata": {},
   "outputs": [
    {
     "ename": "SyntaxError",
     "evalue": "invalid syntax (<ipython-input-6-52f534851904>, line 1)",
     "output_type": "error",
     "traceback": [
      "\u001b[1;36m  File \u001b[1;32m\"<ipython-input-6-52f534851904>\"\u001b[1;36m, line \u001b[1;32m1\u001b[0m\n\u001b[1;33m    while (itr = 0 < 6):\u001b[0m\n\u001b[1;37m               ^\u001b[0m\n\u001b[1;31mSyntaxError\u001b[0m\u001b[1;31m:\u001b[0m invalid syntax\n"
     ]
    }
   ],
   "source": [
    "while (itr = 0 < 6):\n",
    "    print (itr)\n",
    "    itr += 1"
   ]
  },
  {
   "cell_type": "code",
   "execution_count": null,
   "metadata": {},
   "outputs": [],
   "source": []
  },
  {
   "cell_type": "code",
   "execution_count": 5,
   "metadata": {},
   "outputs": [],
   "source": [
    "from typing import List\n",
    "def find_element_in_array(array: List[int], k: int):\n",
    "    array_len = len(array)\n",
    "    if not (array[array_len-1]-k):\n",
    "        return \"YES\"\n",
    "    \n",
    "    itr = 0\n",
    "    while (itr = 0 < )"
   ]
  },
  {
   "cell_type": "code",
   "execution_count": 4,
   "metadata": {},
   "outputs": [
    {
     "name": "stdout",
     "output_type": "stream",
     "text": [
      "[2, 5, 8, 1, 3] 4\n"
     ]
    }
   ],
   "source": [
    "find_element_in_array([2, 5, 8, 1, 3], 4)"
   ]
  },
  {
   "cell_type": "code",
   "execution_count": null,
   "metadata": {},
   "outputs": [],
   "source": [
    "def search(arr, n, x):\n",
    "      \n",
    "    # 1st comparison\n",
    "    if (arr[n-1] == x) :\n",
    "        return \"Found\"\n",
    "  \n",
    "    backup = arr[n-1]\n",
    "    arr[n-1] = x\n",
    "  \n",
    "    # no termination condition and \n",
    "    # thus no comparison\n",
    "    i = 0\n",
    "    while(i < n) :\n",
    "          \n",
    "        # this would be executed at-most n times\n",
    "        # and therefore at-most n comparisons\n",
    "        if (arr[i] == x) :\n",
    "              \n",
    "            # replace arr[n-1] with its actual \n",
    "            # element as in original 'arr[]'\n",
    "            arr[n-1] = backup\n",
    "  \n",
    "            # if 'x' is found before the '(n-1)th'\n",
    "            # index, then it is present in the \n",
    "            # array final comparison\n",
    "            if (i < n-1):\n",
    "                return \"Found\"\n",
    "  \n",
    "            # else not present in the array\n",
    "            return \"Not Found\"\n",
    "        i = i + 1\n",
    "  \n",
    "# Driver Code"
   ]
  },
  {
   "cell_type": "code",
   "execution_count": null,
   "metadata": {},
   "outputs": [],
   "source": []
  },
  {
   "cell_type": "code",
   "execution_count": null,
   "metadata": {},
   "outputs": [],
   "source": []
  }
 ],
 "metadata": {
  "kernelspec": {
   "display_name": "Python 3",
   "language": "python",
   "name": "python3"
  },
  "language_info": {
   "codemirror_mode": {
    "name": "ipython",
    "version": 3
   },
   "file_extension": ".py",
   "mimetype": "text/x-python",
   "name": "python",
   "nbconvert_exporter": "python",
   "pygments_lexer": "ipython3",
   "version": "3.7.6"
  }
 },
 "nbformat": 4,
 "nbformat_minor": 4
}
