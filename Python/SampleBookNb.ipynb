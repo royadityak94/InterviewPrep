{
 "cells": [
  {
   "cell_type": "code",
   "execution_count": 7,
   "metadata": {},
   "outputs": [],
   "source": [
    "comparator = lambda element_1, element_2: element_1-element_2"
   ]
  },
  {
   "cell_type": "code",
   "execution_count": 18,
   "metadata": {},
   "outputs": [],
   "source": [
    "from typing import List\n",
    "def find_element_in_array(array: List[int], k: int):\n",
    "    comparator = lambda element_1, element_2: element_1-element_2\n",
    "    end = len(array)\n",
    "    if not comparator(array[end-1], k):\n",
    "        return \"YES\"\n",
    "    \n",
    "    previous = array[end-1]\n",
    "    array[end-1] = k\n",
    "    \n",
    "    for itr in range(end):\n",
    "        if not comparator(array[itr], k):\n",
    "            array[end-1] = previous\n",
    "            \n",
    "            if 1 + itr < end:\n",
    "                return \"YES\"\n",
    "    return \"NO\"\n",
    "        "
   ]
  },
  {
   "cell_type": "code",
   "execution_count": 29,
   "metadata": {},
   "outputs": [
    {
     "data": {
      "text/plain": [
       "'NO'"
      ]
     },
     "execution_count": 29,
     "metadata": {},
     "output_type": "execute_result"
    }
   ],
   "source": [
    "find_element_in_array([2, 5, 8, 1, 3], -1)"
   ]
  },
  {
   "cell_type": "code",
   "execution_count": null,
   "metadata": {},
   "outputs": [],
   "source": [
    "def return_odd_integers(l, r):\n",
    "    return range(l, r+1, 2) if l%2 else range(l, r, 2)"
   ]
  },
  {
   "cell_type": "code",
   "execution_count": null,
   "metadata": {},
   "outputs": [],
   "source": []
  },
  {
   "cell_type": "code",
   "execution_count": null,
   "metadata": {},
   "outputs": [],
   "source": []
  },
  {
   "cell_type": "code",
   "execution_count": null,
   "metadata": {},
   "outputs": [],
   "source": []
  },
  {
   "cell_type": "code",
   "execution_count": null,
   "metadata": {},
   "outputs": [],
   "source": []
  }
 ],
 "metadata": {
  "kernelspec": {
   "display_name": "Python 3",
   "language": "python",
   "name": "python3"
  },
  "language_info": {
   "codemirror_mode": {
    "name": "ipython",
    "version": 3
   },
   "file_extension": ".py",
   "mimetype": "text/x-python",
   "name": "python",
   "nbconvert_exporter": "python",
   "pygments_lexer": "ipython3",
   "version": "3.7.6"
  }
 },
 "nbformat": 4,
 "nbformat_minor": 4
}
