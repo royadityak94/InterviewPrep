{
 "cells": [
  {
   "cell_type": "code",
   "execution_count": 1,
   "metadata": {},
   "outputs": [],
   "source": [
    "from functools import wraps\n",
    "import time"
   ]
  },
  {
   "cell_type": "code",
   "execution_count": 2,
   "metadata": {},
   "outputs": [
    {
     "name": "stdout",
     "output_type": "stream",
     "text": [
      "Wrapper function was called with non-keyword arguments = 3 and keyword arguments = 2.\n",
      "Inside the display function.\n"
     ]
    }
   ],
   "source": [
    "# Decorators with functions\n",
    "def decorator_function(original_function):\n",
    "    def wrapper_function(*args, **kwargs):\n",
    "        print (\"Wrapper function was called with non-keyword arguments = {} and keyword arguments = {}.\".format(\n",
    "            len(args), len(kwargs)))\n",
    "        return original_function(*args, **kwargs)\n",
    "    return wrapper_function\n",
    "\n",
    "@decorator_function\n",
    "def display(*args, **kwargs):\n",
    "    print (\"Inside the display function.\")\n",
    "    \n",
    "display(\"aa\", \"bb\", \"cc\", man=\"bb\", chid=\"ss\")  "
   ]
  },
  {
   "cell_type": "code",
   "execution_count": 3,
   "metadata": {},
   "outputs": [
    {
     "name": "stdout",
     "output_type": "stream",
     "text": [
      "Wrapper function was called with non-keyword arguments = 3 and keyword arguments = 2.\n",
      "Inside the display function.\n"
     ]
    }
   ],
   "source": [
    "# Decorators with class\n",
    "class decorator_class(object):\n",
    "    def __init__(self, original_function):\n",
    "        self.original_function = original_function\n",
    "    def __call__(self, *args, **kwargs):\n",
    "        print (\"Wrapper function was called with non-keyword arguments = {} and keyword arguments = {}.\".format(\n",
    "            len(args), len(kwargs)))\n",
    "        return self.original_function(*args, **kwargs)\n",
    "    \n",
    "@decorator_class\n",
    "def display(*args, **kwargs):\n",
    "    print (\"Inside the display function.\")\n",
    "    \n",
    "display(\"aa\", \"bb\", \"cc\", man=\"bb\", chid=\"ss\")  "
   ]
  },
  {
   "cell_type": "code",
   "execution_count": 4,
   "metadata": {},
   "outputs": [
    {
     "name": "stdout",
     "output_type": "stream",
     "text": [
      "Wrapper function from logger_decorator was called with non-keyword arguments = 3 and keyword arguments = 2.\n",
      "Wrapper function from tester_class was called with non-keyword arguments = 2 and keyword arguments = 2.\n",
      "Inside the tester class\n",
      "Total Time Taken = 2.0 seconds\n"
     ]
    }
   ],
   "source": [
    "# Implementing the logger module\n",
    "class logger_decorator(object):\n",
    "    def __init__(self, original_function):\n",
    "        self.original_function = original_function\n",
    "        \n",
    "    def __call__(self, *args, **kwargs):\n",
    "        print (\"Wrapper function from {} was called with non-keyword arguments = {} and keyword arguments = {}.\".format(\n",
    "            \"logger_decorator\", len(args), len(kwargs)))\n",
    "        return self.original_function(*args, **kwargs)\n",
    "    \n",
    "def timer_decorator(original_function):\n",
    "    @wraps(original_function)\n",
    "    def timer_wrapper(self, *args, **kwargs):\n",
    "        print (\"Wrapper function from {} was called with non-keyword arguments = {} and keyword arguments = {}.\".format(\n",
    "            original_function.__name__, len(args), len(kwargs)))\n",
    "        start = time.time()\n",
    "        original_function(*args, **kwargs)\n",
    "        print (\"Total Time Taken = {} seconds\".format(round(time.time() - start, 3)) )\n",
    "    return timer_wrapper\n",
    "\n",
    "@logger_decorator\n",
    "@timer_decorator\n",
    "def tester_class(*args, **kwargs):\n",
    "    time.sleep(2)\n",
    "    print (\"Inside the tester class\")\n",
    "    \n",
    "tester_class(\"aa\", \"bb\", \"cc\", man=\"bb\", chid=\"ss\")  "
   ]
  }
 ],
 "metadata": {
  "kernelspec": {
   "display_name": "Python 3",
   "language": "python",
   "name": "python3"
  },
  "language_info": {
   "codemirror_mode": {
    "name": "ipython",
    "version": 3
   },
   "file_extension": ".py",
   "mimetype": "text/x-python",
   "name": "python",
   "nbconvert_exporter": "python",
   "pygments_lexer": "ipython3",
   "version": "3.7.6"
  }
 },
 "nbformat": 4,
 "nbformat_minor": 4
}
